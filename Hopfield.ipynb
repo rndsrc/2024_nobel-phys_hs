{
 "cells": [
  {
   "cell_type": "markdown",
   "id": "0",
   "metadata": {},
   "source": [
    "[![Open In Colab](https://colab.research.google.com/assets/colab-badge.svg)](https://colab.research.google.com/github/rndsrc/2024_nobel-phys_hs/blob/main/Hopfield.ipynb)"
   ]
  },
  {
   "cell_type": "markdown",
   "id": "1",
   "metadata": {},
   "source": [
    "# Exploring the 2024 Nobel Prize in Physics"
   ]
  },
  {
   "cell_type": "markdown",
   "id": "2",
   "metadata": {},
   "source": [
    "## 0. Setup (5 min)"
   ]
  },
  {
   "cell_type": "markdown",
   "id": "3",
   "metadata": {},
   "source": [
    "### Access the Notebook\n",
    "\n",
    "To start working with this notebook, open it using one of the following methods:\n",
    "\n",
    "- [**GitHub Codespaces**](https://github.com/features/codespaces): If you are using a GitHub repository, you can launch a Codespace, which provides an online VS Code environment with Jupyter support.\n",
    "- [**Google Colab**](https://colab.research.google.com/): If you prefer a cloud-based Python environment, open this notebook in Google Colab.\n",
    "- **Local Jupyter Lab:** If you have Jupyter installed on your machine, run the following command in your terminal:\n",
    "  ```sh\n",
    "  jupyter lab\n",
    "  ```"
   ]
  },
  {
   "cell_type": "markdown",
   "id": "4",
   "metadata": {},
   "source": [
    "### Quick Tour of Jupyter Notebook\n",
    "\n",
    "Jupyter Notebook consists of **cells** that can contain either **Markdown** (formatted text) or **Python code**.\n",
    "\n",
    "- **Markdown Cells:** Used for documentation and instructions.\n",
    "  Double-click a cell to edit it, and press `Shift + Enter` to render it.\n",
    "- **Code Cells:** Used to write and execute Python code.\n",
    "  Click inside a cell and press `Shift + Enter` to run it."
   ]
  },
  {
   "cell_type": "markdown",
   "id": "5",
   "metadata": {},
   "source": [
    "### Example: Run Your First Python Code\n",
    "\n",
    "Try running the following code cell to check if Python is working correctly:"
   ]
  },
  {
   "cell_type": "code",
   "execution_count": null,
   "id": "6",
   "metadata": {},
   "outputs": [],
   "source": [
    "# Print a welcome message\n",
    "def greet():\n",
    "    return \"Welcome to the Hopfield Network Notebook!\"\n",
    "\n",
    "print(greet())"
   ]
  },
  {
   "cell_type": "markdown",
   "id": "7",
   "metadata": {},
   "source": [
    "### Installing Dependencies (if needed)\n",
    "\n",
    "In a Jupyter Notebook, an `!` (exclamation mark) is used to execute shell (command-line) commands directly from a code cell.\n",
    "This allows users to run commands as they would in a terminal, without leaving the notebook.\n",
    "If running this notebook locally, ensure you have the required libraries installed:"
   ]
  },
  {
   "cell_type": "code",
   "execution_count": null,
   "id": "8",
   "metadata": {},
   "outputs": [],
   "source": [
    "# Command\n",
    "\n",
    "!pip install numpy matplotlib"
   ]
  },
  {
   "cell_type": "markdown",
   "id": "9",
   "metadata": {},
   "source": [
    "This concludes the setup!\n",
    "Now, let's dive into Hopfield networks and their connection to the Ising model."
   ]
  },
  {
   "cell_type": "markdown",
   "id": "10",
   "metadata": {},
   "source": [
    "## 1. Introduction (5 min)"
   ]
  },
  {
   "cell_type": "markdown",
   "id": "11",
   "metadata": {},
   "source": [
    "### What is the 2024 Nobel Prize in Physics About?\n",
    "\n",
    "In 2024, the **Nobel Prize in Physics** was awarded to **John J. Hopfield** and **Geoffrey E. Hinton** for their pioneering work on neural networks.\n",
    "Their contributions have played a significant role in the development of modern artificial intelligence and computational models inspired by biological learning mechanisms.\n",
    "\n",
    "- **John J. Hopfield** introduced the Hopfield network, a type of recurrent neural network that models associative memory and collective computation in neural systems.\n",
    "- **Geoffrey E. Hinton** made significant advancements in deep learning, particularly in training deep neural networks through the backpropagation algorithm.\n",
    "\n",
    "Their research has had profound implications in artificial intelligence, neuroscience, and computational physics."
   ]
  },
  {
   "cell_type": "markdown",
   "id": "12",
   "metadata": {},
   "source": [
    "### Why Do Neural Networks Matter?\n",
    "\n",
    "Neural networks are now an essential part of many everyday technologies:\n",
    "\n",
    "- **Facial Recognition:** Used to unlock smartphones and enhance security.\n",
    "- **Chatbots:** Power customer service agents that interact with users.\n",
    "- **Voice Assistants:** Siri, Alexa, and Google Assistant rely on neural networks for speech recognition.\n",
    "- **Self-Driving Cars:** Autonomous vehicles process sensor data using deep learning models."
   ]
  },
  {
   "cell_type": "markdown",
   "id": "13",
   "metadata": {},
   "source": [
    "## Importance of This Discovery\n",
    "\n",
    "Neural networks have revolutionized multiple domains, including:\n",
    "- **Language Translation:** Real-time translation services are powered by deep learning models.\n",
    "- **Medical Diagnosis:** AI-assisted analysis of medical images improves diagnostic accuracy.\n",
    "- **Scientific Research:** AI-driven simulations enhance modeling in physics, chemistry, and biology."
   ]
  },
  {
   "cell_type": "markdown",
   "id": "14",
   "metadata": {},
   "source": [
    "## 2. The Ising Model (5 min)"
   ]
  },
  {
   "cell_type": "markdown",
   "id": "15",
   "metadata": {},
   "source": [
    "### What Is the Ising Model?\n",
    "\n",
    "To understand how neural networks operate, we first introduce the **Ising model**.\n",
    "The **Ising model** is a fundamental concept in statistical physics used to describe systems of interacting particles with two possible states.\n",
    "It was initially developed to explain phase transitions in magnetism but has since been applied to a wide range of complex systems, including neural networks.\n",
    "\n",
    "#### Basic Idea\n",
    "- Consider a **grid (lattice)** where each point represents a **spin**.\n",
    "- Each spin can take one of two states: **up (+1) or down (-1)**.\n",
    "- Spins interact with their neighbors, aiming to align in a way that minimizes system energy.\n",
    "\n",
    "#### Interaction and Energy Minimization\n",
    "- The system's total energy is determined by how well-aligned the spins are with their neighbors.\n",
    "- The **Hamiltonian** (energy function) for the Ising model is:\n",
    "  $$\n",
    "  H = - \\sum_{i,j} J_{ij} s_i s_j\n",
    "  $$\n",
    "  where:\n",
    "  - $s_i$ represents the spin at site $i$.\n",
    "  - $J_{ij}$ is the coupling strength between neighboring spins.  \n",
    "- The system evolves dynamically to minimize $H$, leading to patterns of stable configurations."
   ]
  },
  {
   "cell_type": "markdown",
   "id": "16",
   "metadata": {},
   "source": [
    "### Why It Matters\n",
    "\n",
    "#### Real-World Example: Magnets and Decision-Making\n",
    "- In **magnetism**, atomic spins align to form magnetic domains, illustrating how interactions shape large-scale behavior.\n",
    "- In **social dynamics**, human decision-making can resemble an Ising model, where individuals adjust their opinions based on peer influence.\n",
    "\n",
    "#### Optimization\n",
    "- Many complex optimization problems, including **image recognition and combinatorial search problems**, can be formulated using the Ising model framework.\n",
    "- The process of **energy minimization** in the Ising model is analogous to **error minimization** in machine learning.\n",
    "- Neural networks, particularly **Hopfield networks** that we will present later, use a similar principle to find stable memory states."
   ]
  },
  {
   "cell_type": "markdown",
   "id": "17",
   "metadata": {},
   "source": [
    "## 3. Hands-On Activity: Simulating a 2D Ising Model (10 min)\n",
    "- **Run the Code:**\n",
    "  - Watch how spins change over time in the simulation.\n",
    "- **Try Different Settings:**\n",
    "  - Change temperature or grid size to see different patterns.\n",
    "- **Key Lesson:**\n",
    "  - Systems naturally move towards stable, low-energy states, just like neural networks."
   ]
  },
  {
   "cell_type": "markdown",
   "id": "18",
   "metadata": {},
   "source": [
    "## 4. Hopfield Networks (10 min)\n",
    "\n",
    "### What Are Hopfield Networks?\n",
    "- **Memory Machines:**\n",
    "  - They can store and recall patterns even if the input is a bit noisy.\n",
    "- **Energy Landscape:**\n",
    "  - The network moves towards stable states, similar to how the Ising model works.\n",
    "\n",
    "### Connecting to the Ising Model\n",
    "- **Similar Behavior:**\n",
    "  - Both systems aim to minimize energy and reach stability.\n",
    "- **Parallel Concepts:**\n",
    "  - Moving towards low-energy configurations in both physics and neural networks.\n",
    "\n",
    "### Why It Matters\n",
    "- **Foundation for AI:**\n",
    "  - Hopfield Networks inspired many modern artificial intelligence technologies."
   ]
  },
  {
   "cell_type": "markdown",
   "id": "19",
   "metadata": {},
   "source": [
    "## 5. Hands-On Activity: Building a Hopfield Network (10 min)\n",
    "- **Initialize the Network:**\n",
    "  - Represent patterns using simple binary arrays (e.g., 1s and -1s).\n",
    "- **Train the Network:**\n",
    "  - Watch how the network adjusts its connections to learn patterns.\n",
    "- **Test the Network:**\n",
    "  - Input a noisy version of a pattern and see if the network recalls the correct one.\n",
    "- **Optional Bonus:**\n",
    "  - Compare how weight updates in the network are like spin changes in the Ising model."
   ]
  },
  {
   "cell_type": "markdown",
   "id": "20",
   "metadata": {},
   "source": [
    "## 6. Discussion (5 min)\n",
    "- **Real-World Applications:**\n",
    "  - How neural networks are used in AI, data analysis, and more.\n",
    "- **Ethical Considerations:**\n",
    "  - Discuss fairness, biases, and the impact of AI on society.\n",
    "- **Closing Questions:**\n",
    "  - How do physics and AI work together in models like the Ising model and Hopfield Networks?\n",
    "  - Encourage further exploration with tools like Jupyter Notebooks."
   ]
  }
 ],
 "metadata": {
  "kernelspec": {
   "display_name": "Python 3 (ipykernel)",
   "language": "python",
   "name": "python3"
  },
  "language_info": {
   "codemirror_mode": {
    "name": "ipython",
    "version": 3
   },
   "file_extension": ".py",
   "mimetype": "text/x-python",
   "name": "python",
   "nbconvert_exporter": "python",
   "pygments_lexer": "ipython3",
   "version": "3.12.6"
  }
 },
 "nbformat": 4,
 "nbformat_minor": 5
}
