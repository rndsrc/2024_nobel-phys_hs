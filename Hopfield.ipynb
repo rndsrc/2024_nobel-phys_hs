{
 "cells": [
  {
   "cell_type": "markdown",
   "id": "0",
   "metadata": {},
   "source": [
    "[![Open In Colab](https://colab.research.google.com/assets/colab-badge.svg)](https://colab.research.google.com/github/rndsrc/2024_nobel-phys_hs/blob/main/Hopfield.ipynb)"
   ]
  },
  {
   "cell_type": "markdown",
   "id": "1",
   "metadata": {},
   "source": [
    "# Exploring the 2024 Nobel Prize in Physics"
   ]
  },
  {
   "cell_type": "markdown",
   "id": "2",
   "metadata": {},
   "source": [
    "## 0. Setup (5 min)"
   ]
  },
  {
   "cell_type": "markdown",
   "id": "3",
   "metadata": {},
   "source": [
    "### Access the Notebook\n",
    "\n",
    "To start working with this notebook, open it using one of the following methods:\n",
    "\n",
    "- [**GitHub Codespaces**](https://github.com/features/codespaces): If you are using a GitHub repository, you can launch a Codespace, which provides an online VS Code environment with Jupyter support.\n",
    "- [**Google Colab**](https://colab.research.google.com/): If you prefer a cloud-based Python environment, open this notebook in Google Colab.\n",
    "- **Local Jupyter Lab:** If you have Jupyter installed on your machine, run the following command in your terminal:\n",
    "  ```sh\n",
    "  jupyter lab\n",
    "  ```"
   ]
  },
  {
   "cell_type": "markdown",
   "id": "4",
   "metadata": {},
   "source": [
    "### Quick Tour of Jupyter Notebook\n",
    "\n",
    "Jupyter Notebook consists of **cells** that can contain either **Markdown** (formatted text) or **Python code**.\n",
    "\n",
    "- **Markdown Cells:** Used for documentation and instructions.\n",
    "  Double-click a cell to edit it, and press `Shift + Enter` to render it.\n",
    "- **Code Cells:** Used to write and execute Python code.\n",
    "  Click inside a cell and press `Shift + Enter` to run it."
   ]
  },
  {
   "cell_type": "markdown",
   "id": "5",
   "metadata": {},
   "source": [
    "### Example: Run Your First Python Code\n",
    "\n",
    "Try running the following code cell to check if Python is working correctly:"
   ]
  },
  {
   "cell_type": "code",
   "execution_count": null,
   "id": "6",
   "metadata": {},
   "outputs": [],
   "source": [
    "# Print a welcome message\n",
    "def greet():\n",
    "    return \"Welcome to the Hopfield Network Notebook!\"\n",
    "\n",
    "print(greet())"
   ]
  },
  {
   "cell_type": "markdown",
   "id": "7",
   "metadata": {},
   "source": [
    "### Installing Dependencies (if needed)\n",
    "\n",
    "In a Jupyter Notebook, an `!` (exclamation mark) is used to execute shell (command-line) commands directly from a code cell.\n",
    "This allows users to run commands as they would in a terminal, without leaving the notebook.\n",
    "If running this notebook locally, ensure you have the required libraries installed:"
   ]
  },
  {
   "cell_type": "code",
   "execution_count": null,
   "id": "8",
   "metadata": {},
   "outputs": [],
   "source": [
    "# Command\n",
    "\n",
    "!pip install numpy matplotlib"
   ]
  },
  {
   "cell_type": "markdown",
   "id": "9",
   "metadata": {},
   "source": [
    "This concludes the setup!\n",
    "Now, let's dive into Hopfield networks and their connection to the Ising model."
   ]
  },
  {
   "cell_type": "markdown",
   "id": "10",
   "metadata": {},
   "source": [
    "## 1. Introduction (5 min)\n",
    "\n",
    "### What is the 2024 Nobel Prize in Physics About?\n",
    "- **Award Overview:**\n",
    "  - Introduce the winners: **John J. Hopfield** and **Geoffrey E. Hinton**.\n",
    "  - Briefly mention their contributions to neural networks.\n",
    "\n",
    "### Why Do Neural Networks Matter?\n",
    "- **Everyday Examples:**\n",
    "  - **Facial Recognition:** Unlock your phone.\n",
    "  - **Chatbots:** Customer service online.\n",
    "  - **Voice Assistants:** Siri, Alexa.\n",
    "  - **Self-Driving Cars:** Autonomous vehicles.\n",
    "\n",
    "### Importance of This Discovery\n",
    "- **Impact on Technology:**\n",
    "  - How neural networks power modern gadgets and services.\n",
    "\n",
    "### Connection to Physics\n",
    "- **The Ising Model:**\n",
    "  - A simple physics model that helps us understand how neural networks work."
   ]
  },
  {
   "cell_type": "markdown",
   "id": "11",
   "metadata": {},
   "source": [
    "## 2. The Ising Model (5 min)\n",
    "\n",
    "### What Is the Ising Model?\n",
    "- **Basic Idea:**\n",
    "  - Imagine a grid where each point (spin) can be up or down.\n",
    "- **Interaction:**\n",
    "  - Spins work together to reach a stable state with the least energy.\n",
    "\n",
    "### Why It Matters\n",
    "- **Optimization:**\n",
    "  - Similar to how neural networks find the best settings to reduce errors.\n",
    "- **Real-World Example:**\n",
    "  - Think of magnets or how people make group decisions."
   ]
  },
  {
   "cell_type": "markdown",
   "id": "12",
   "metadata": {},
   "source": [
    "## 3. Hands-On Activity: Simulating a 2D Ising Model (10 min)\n",
    "- **Run the Code:**\n",
    "  - Watch how spins change over time in the simulation.\n",
    "- **Try Different Settings:**\n",
    "  - Change temperature or grid size to see different patterns.\n",
    "- **Key Lesson:**\n",
    "  - Systems naturally move towards stable, low-energy states, just like neural networks."
   ]
  },
  {
   "cell_type": "markdown",
   "id": "13",
   "metadata": {},
   "source": [
    "## 4. Hopfield Networks (10 min)\n",
    "\n",
    "### What Are Hopfield Networks?\n",
    "- **Memory Machines:**\n",
    "  - They can store and recall patterns even if the input is a bit noisy.\n",
    "- **Energy Landscape:**\n",
    "  - The network moves towards stable states, similar to how the Ising model works.\n",
    "\n",
    "### Connecting to the Ising Model\n",
    "- **Similar Behavior:**\n",
    "  - Both systems aim to minimize energy and reach stability.\n",
    "- **Parallel Concepts:**\n",
    "  - Moving towards low-energy configurations in both physics and neural networks.\n",
    "\n",
    "### Why It Matters\n",
    "- **Foundation for AI:**\n",
    "  - Hopfield Networks inspired many modern artificial intelligence technologies."
   ]
  },
  {
   "cell_type": "markdown",
   "id": "14",
   "metadata": {},
   "source": [
    "## 5. Hands-On Activity: Building a Hopfield Network (10 min)\n",
    "- **Initialize the Network:**\n",
    "  - Represent patterns using simple binary arrays (e.g., 1s and -1s).\n",
    "- **Train the Network:**\n",
    "  - Watch how the network adjusts its connections to learn patterns.\n",
    "- **Test the Network:**\n",
    "  - Input a noisy version of a pattern and see if the network recalls the correct one.\n",
    "- **Optional Bonus:**\n",
    "  - Compare how weight updates in the network are like spin changes in the Ising model."
   ]
  },
  {
   "cell_type": "markdown",
   "id": "15",
   "metadata": {},
   "source": [
    "## 6. Discussion (5 min)\n",
    "- **Real-World Applications:**\n",
    "  - How neural networks are used in AI, data analysis, and more.\n",
    "- **Ethical Considerations:**\n",
    "  - Discuss fairness, biases, and the impact of AI on society.\n",
    "- **Closing Questions:**\n",
    "  - How do physics and AI work together in models like the Ising model and Hopfield Networks?\n",
    "  - Encourage further exploration with tools like Jupyter Notebooks."
   ]
  }
 ],
 "metadata": {
  "kernelspec": {
   "display_name": "Python 3 (ipykernel)",
   "language": "python",
   "name": "python3"
  },
  "language_info": {
   "codemirror_mode": {
    "name": "ipython",
    "version": 3
   },
   "file_extension": ".py",
   "mimetype": "text/x-python",
   "name": "python",
   "nbconvert_exporter": "python",
   "pygments_lexer": "ipython3",
   "version": "3.12.6"
  }
 },
 "nbformat": 4,
 "nbformat_minor": 5
}
